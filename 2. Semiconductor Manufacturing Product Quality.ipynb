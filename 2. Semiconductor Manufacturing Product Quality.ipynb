{
 "cells": [
  {
   "cell_type": "markdown",
   "id": "fdfb6a94-7ffb-473a-88a3-67514133c2c8",
   "metadata": {},
   "source": [
    "### SEMICONDUCTOR MANUFACTURING PRODUCT QUALITY PREDICTION"
   ]
  },
  {
   "cell_type": "markdown",
   "id": "a4dc15ee-9b45-4847-8f61-cbce5b6d3e91",
   "metadata": {},
   "source": [
    "**Highlights:**\n",
    " <br> 1. Unlike with machine learning algorithms, \n",
    " <br> 1.A: no dataset outliers treatment as the auto-encoder neural network is insensitive to them \n",
    " <br> 1.B: the multi-collinearity among the descriptors is also not bothered as the rigorous dimentionality reduction happens (quicker compared to PCA)\n",
    " <br> 2. Both the keras types of models are illustrated: Sequential API and Functional API\n",
    " <br> 3. All of the data is gathered from the sensors in real-time \n",
    " <br> 4. Dataset is labelled as 'Product Quality' where 1: Good 0: Bad\n",
    " <br> 5. Auto-encoder neural network is used as a dimentionality reduction technique\n",
    " <br> 6. Support vector machine uses the encoded data for the prediction of product quality"
   ]
  },
  {
   "cell_type": "markdown",
   "id": "1672dc32-fb2f-43aa-83a5-b3ef0d922852",
   "metadata": {},
   "source": [
    "Import all the necessary library packages"
   ]
  },
  {
   "cell_type": "code",
   "execution_count": 87,
   "id": "343db866-0eaf-4245-a565-656052090957",
   "metadata": {},
   "outputs": [],
   "source": [
    "import pandas as pd \n",
    "import numpy as np\n",
    "\n",
    "from sklearn.svm import SVC  \n",
    "from sklearn.model_selection import train_test_split\n",
    "from sklearn.model_selection import GridSearchCV\n",
    "from sklearn.metrics import classification_report, confusion_matrix \n",
    "\n",
    "import tensorflow as tf\n",
    "from tensorflow.keras import layers\n",
    "from keras.layers import Input, Dense\n",
    "from keras.models import Model, Sequential\n",
    "from keras import regularizers"
   ]
  },
  {
   "cell_type": "markdown",
   "id": "9366372b-25e1-4943-aedc-ced33e156533",
   "metadata": {},
   "source": [
    "Functions used"
   ]
  },
  {
   "cell_type": "code",
   "execution_count": 88,
   "id": "492c3d86-1794-4c0e-94e2-a3538f422031",
   "metadata": {},
   "outputs": [],
   "source": [
    "def getRedundantColumns(X):                                         \n",
    "    RedundantColumns = set()\n",
    "    for loc in range(X.shape[1]):\n",
    "        tocomparecolumn = X.iloc[:, loc]\n",
    "        for nextloc in range(loc + 1, X.shape[1]):\n",
    "            comparewithcolumn = X.iloc[:,nextloc]\n",
    "            if tocomparecolumn.equals(comparewithcolumn):\n",
    "                RedundantColumns.add(X.columns.values[nextloc])\n",
    "    return list(RedundantColumns)"
   ]
  },
  {
   "cell_type": "markdown",
   "id": "c2758fbb-5a94-4c35-8eca-66e305e6a206",
   "metadata": {},
   "source": [
    "#### Data Preparation"
   ]
  },
  {
   "cell_type": "code",
   "execution_count": 89,
   "id": "5d3fbc54-18a2-4b27-8081-1f35d85259de",
   "metadata": {},
   "outputs": [
    {
     "data": {
      "text/plain": [
       "Time          0\n",
       "0             6\n",
       "1             7\n",
       "2            14\n",
       "3            14\n",
       "             ..\n",
       "586           1\n",
       "587           1\n",
       "588           1\n",
       "589           1\n",
       "Pass/Fail     0\n",
       "Length: 592, dtype: int64"
      ]
     },
     "execution_count": 89,
     "metadata": {},
     "output_type": "execute_result"
    }
   ],
   "source": [
    "dataset = pd.read_csv('SMPQ.csv') \n",
    "dataset.isnull().sum()   # identifies the missing columns"
   ]
  },
  {
   "cell_type": "code",
   "execution_count": null,
   "id": "0614f1d0-88c1-44fc-a7fc-b129d056d0a1",
   "metadata": {
    "tags": []
   },
   "outputs": [],
   "source": [
    "dataset.replace('', np.nan, inplace=True)    # replace miising values across the dataset with NaN\n",
    "dataset = dataset.fillna(dataset.median())   # fill the NaN values in each column with their respective column median\n",
    "# dataset.isnull().sum() # to know the number of column missing values afterwards\n",
    "print('Actual Dataset dimension:',dataset.shape)"
   ]
  },
  {
   "cell_type": "code",
   "execution_count": null,
   "id": "9ac7ad59-2fee-4cbc-a8b5-4138884d79a7",
   "metadata": {},
   "outputs": [],
   "source": [
    "RedundantColumns = np.array(getRedundantColumns(dataset))   # Identifying the duplicate columns\n",
    "RedundantColumns"
   ]
  },
  {
   "cell_type": "code",
   "execution_count": 81,
   "id": "bc07e795-cbcc-473c-a692-b5bac02cfa93",
   "metadata": {},
   "outputs": [
    {
     "name": "stdout",
     "output_type": "stream",
     "text": [
      "Dataset dimension after removing duplicate columns: (1567, 480)\n"
     ]
    }
   ],
   "source": [
    "dataset = dataset.T.drop_duplicates().T    # removes all of the above duplicate columns \n",
    "print('Dataset dimension after removing duplicate columns:',dataset.shape) "
   ]
  },
  {
   "cell_type": "code",
   "execution_count": 82,
   "id": "5206c71e-8e33-4f43-b135-015d17f98f62",
   "metadata": {
    "tags": []
   },
   "outputs": [
    {
     "name": "stdout",
     "output_type": "stream",
     "text": [
      "Dataset dimension after removing useless columns: (1567, 475)\n"
     ]
    },
    {
     "data": {
      "text/html": [
       "<div>\n",
       "<style scoped>\n",
       "    .dataframe tbody tr th:only-of-type {\n",
       "        vertical-align: middle;\n",
       "    }\n",
       "\n",
       "    .dataframe tbody tr th {\n",
       "        vertical-align: top;\n",
       "    }\n",
       "\n",
       "    .dataframe thead th {\n",
       "        text-align: right;\n",
       "    }\n",
       "</style>\n",
       "<table border=\"1\" class=\"dataframe\">\n",
       "  <thead>\n",
       "    <tr style=\"text-align: right;\">\n",
       "      <th></th>\n",
       "      <th>0</th>\n",
       "      <th>1</th>\n",
       "      <th>2</th>\n",
       "      <th>3</th>\n",
       "      <th>4</th>\n",
       "      <th>6</th>\n",
       "      <th>7</th>\n",
       "      <th>8</th>\n",
       "      <th>9</th>\n",
       "      <th>10</th>\n",
       "      <th>...</th>\n",
       "      <th>581</th>\n",
       "      <th>582</th>\n",
       "      <th>583</th>\n",
       "      <th>584</th>\n",
       "      <th>585</th>\n",
       "      <th>586</th>\n",
       "      <th>587</th>\n",
       "      <th>588</th>\n",
       "      <th>589</th>\n",
       "      <th>Pass/Fail</th>\n",
       "    </tr>\n",
       "  </thead>\n",
       "  <tbody>\n",
       "    <tr>\n",
       "      <th>0</th>\n",
       "      <td>3030.93</td>\n",
       "      <td>2564.0</td>\n",
       "      <td>2187.7333</td>\n",
       "      <td>1411.1265</td>\n",
       "      <td>1.3602</td>\n",
       "      <td>97.6133</td>\n",
       "      <td>0.1242</td>\n",
       "      <td>1.5005</td>\n",
       "      <td>0.0162</td>\n",
       "      <td>-0.0034</td>\n",
       "      <td>...</td>\n",
       "      <td>72.2889</td>\n",
       "      <td>0.5005</td>\n",
       "      <td>0.0118</td>\n",
       "      <td>0.0035</td>\n",
       "      <td>2.363</td>\n",
       "      <td>0.0205</td>\n",
       "      <td>0.0148</td>\n",
       "      <td>0.0046</td>\n",
       "      <td>71.9005</td>\n",
       "      <td>-1</td>\n",
       "    </tr>\n",
       "    <tr>\n",
       "      <th>1</th>\n",
       "      <td>3095.78</td>\n",
       "      <td>2465.14</td>\n",
       "      <td>2230.4222</td>\n",
       "      <td>1463.6606</td>\n",
       "      <td>0.8294</td>\n",
       "      <td>102.3433</td>\n",
       "      <td>0.1247</td>\n",
       "      <td>1.4966</td>\n",
       "      <td>-0.0005</td>\n",
       "      <td>-0.0148</td>\n",
       "      <td>...</td>\n",
       "      <td>208.2045</td>\n",
       "      <td>0.5019</td>\n",
       "      <td>0.0223</td>\n",
       "      <td>0.0055</td>\n",
       "      <td>4.4447</td>\n",
       "      <td>0.0096</td>\n",
       "      <td>0.0201</td>\n",
       "      <td>0.006</td>\n",
       "      <td>208.2045</td>\n",
       "      <td>-1</td>\n",
       "    </tr>\n",
       "    <tr>\n",
       "      <th>2</th>\n",
       "      <td>2932.61</td>\n",
       "      <td>2559.94</td>\n",
       "      <td>2186.4111</td>\n",
       "      <td>1698.0172</td>\n",
       "      <td>1.5102</td>\n",
       "      <td>95.4878</td>\n",
       "      <td>0.1241</td>\n",
       "      <td>1.4436</td>\n",
       "      <td>0.0041</td>\n",
       "      <td>0.0013</td>\n",
       "      <td>...</td>\n",
       "      <td>82.8602</td>\n",
       "      <td>0.4958</td>\n",
       "      <td>0.0157</td>\n",
       "      <td>0.0039</td>\n",
       "      <td>3.1745</td>\n",
       "      <td>0.0584</td>\n",
       "      <td>0.0484</td>\n",
       "      <td>0.0148</td>\n",
       "      <td>82.8602</td>\n",
       "      <td>1</td>\n",
       "    </tr>\n",
       "  </tbody>\n",
       "</table>\n",
       "<p>3 rows × 475 columns</p>\n",
       "</div>"
      ],
      "text/plain": [
       "         0        1          2          3       4         6       7       8  \\\n",
       "0  3030.93   2564.0  2187.7333  1411.1265  1.3602   97.6133  0.1242  1.5005   \n",
       "1  3095.78  2465.14  2230.4222  1463.6606  0.8294  102.3433  0.1247  1.4966   \n",
       "2  2932.61  2559.94  2186.4111  1698.0172  1.5102   95.4878  0.1241  1.4436   \n",
       "\n",
       "        9      10  ...       581     582     583     584     585     586  \\\n",
       "0  0.0162 -0.0034  ...   72.2889  0.5005  0.0118  0.0035   2.363  0.0205   \n",
       "1 -0.0005 -0.0148  ...  208.2045  0.5019  0.0223  0.0055  4.4447  0.0096   \n",
       "2  0.0041  0.0013  ...   82.8602  0.4958  0.0157  0.0039  3.1745  0.0584   \n",
       "\n",
       "      587     588       589 Pass/Fail  \n",
       "0  0.0148  0.0046   71.9005        -1  \n",
       "1  0.0201   0.006  208.2045        -1  \n",
       "2  0.0484  0.0148   82.8602         1  \n",
       "\n",
       "[3 rows x 475 columns]"
      ]
     },
     "execution_count": 82,
     "metadata": {},
     "output_type": "execute_result"
    }
   ],
   "source": [
    "dataset = dataset.drop(['Time'], axis=1)  # Drop the 'Time' column as it is not needed\n",
    "\n",
    "dataconsistency = dataset.nunique()       # Identify whether the column data is identical for all the rows\n",
    "inconsistant_columns = dataconsistency[dataconsistency == 1].index\n",
    "dataset = dataset.drop(inconsistant_columns, axis=1) # drop the columns with no data variation\n",
    "print('Dataset dimension after removing useless columns:',dataset.shape)   # columns with all the rows having same data\n",
    "dataset.head(3)"
   ]
  },
  {
   "cell_type": "code",
   "execution_count": 83,
   "id": "3feb8d46-e5b5-4371-b5c8-115828c13680",
   "metadata": {},
   "outputs": [],
   "source": [
    "# Seperate the class variable with the descriptors, as the normalization must be performed only with non-class variable\n",
    "Descriptors = dataset.iloc[:,:-1].values      \n",
    "Class = pd.DataFrame(dataset.iloc[:,-1].values)\n",
    "Class = Class.rename(columns={Class.columns[0]: 'Product Quality'})  # Renaming the label\n",
    "Class['Product Quality'] = Class['Product Quality'].replace([-1,1],[1,0])    # 1: Good, 0: Bad"
   ]
  },
  {
   "cell_type": "code",
   "execution_count": 85,
   "id": "7355a2f0-939f-4017-98b1-60898699a2d6",
   "metadata": {},
   "outputs": [
    {
     "data": {
      "text/html": [
       "<div>\n",
       "<style scoped>\n",
       "    .dataframe tbody tr th:only-of-type {\n",
       "        vertical-align: middle;\n",
       "    }\n",
       "\n",
       "    .dataframe tbody tr th {\n",
       "        vertical-align: top;\n",
       "    }\n",
       "\n",
       "    .dataframe thead th {\n",
       "        text-align: right;\n",
       "    }\n",
       "</style>\n",
       "<table border=\"1\" class=\"dataframe\">\n",
       "  <thead>\n",
       "    <tr style=\"text-align: right;\">\n",
       "      <th></th>\n",
       "      <th>0</th>\n",
       "      <th>1</th>\n",
       "      <th>2</th>\n",
       "      <th>3</th>\n",
       "      <th>4</th>\n",
       "      <th>5</th>\n",
       "      <th>6</th>\n",
       "      <th>7</th>\n",
       "      <th>8</th>\n",
       "      <th>9</th>\n",
       "      <th>...</th>\n",
       "      <th>464</th>\n",
       "      <th>465</th>\n",
       "      <th>466</th>\n",
       "      <th>467</th>\n",
       "      <th>468</th>\n",
       "      <th>469</th>\n",
       "      <th>470</th>\n",
       "      <th>471</th>\n",
       "      <th>472</th>\n",
       "      <th>473</th>\n",
       "    </tr>\n",
       "  </thead>\n",
       "  <tbody>\n",
       "    <tr>\n",
       "      <th>0</th>\n",
       "      <td>3030.929932</td>\n",
       "      <td>2564.000000</td>\n",
       "      <td>2187.733398</td>\n",
       "      <td>1411.126465</td>\n",
       "      <td>1.3602</td>\n",
       "      <td>97.613297</td>\n",
       "      <td>0.1242</td>\n",
       "      <td>1.5005</td>\n",
       "      <td>0.0162</td>\n",
       "      <td>-0.0034</td>\n",
       "      <td>...</td>\n",
       "      <td>0.0047</td>\n",
       "      <td>72.288902</td>\n",
       "      <td>0.5005</td>\n",
       "      <td>0.0118</td>\n",
       "      <td>0.0035</td>\n",
       "      <td>2.3630</td>\n",
       "      <td>0.0205</td>\n",
       "      <td>0.0148</td>\n",
       "      <td>0.0046</td>\n",
       "      <td>71.900497</td>\n",
       "    </tr>\n",
       "    <tr>\n",
       "      <th>1</th>\n",
       "      <td>3095.780029</td>\n",
       "      <td>2465.139893</td>\n",
       "      <td>2230.422119</td>\n",
       "      <td>1463.660645</td>\n",
       "      <td>0.8294</td>\n",
       "      <td>102.343300</td>\n",
       "      <td>0.1247</td>\n",
       "      <td>1.4966</td>\n",
       "      <td>-0.0005</td>\n",
       "      <td>-0.0148</td>\n",
       "      <td>...</td>\n",
       "      <td>0.0060</td>\n",
       "      <td>208.204498</td>\n",
       "      <td>0.5019</td>\n",
       "      <td>0.0223</td>\n",
       "      <td>0.0055</td>\n",
       "      <td>4.4447</td>\n",
       "      <td>0.0096</td>\n",
       "      <td>0.0201</td>\n",
       "      <td>0.0060</td>\n",
       "      <td>208.204498</td>\n",
       "    </tr>\n",
       "    <tr>\n",
       "      <th>2</th>\n",
       "      <td>2932.610107</td>\n",
       "      <td>2559.939941</td>\n",
       "      <td>2186.411133</td>\n",
       "      <td>1698.017212</td>\n",
       "      <td>1.5102</td>\n",
       "      <td>95.487801</td>\n",
       "      <td>0.1241</td>\n",
       "      <td>1.4436</td>\n",
       "      <td>0.0041</td>\n",
       "      <td>0.0013</td>\n",
       "      <td>...</td>\n",
       "      <td>0.0148</td>\n",
       "      <td>82.860199</td>\n",
       "      <td>0.4958</td>\n",
       "      <td>0.0157</td>\n",
       "      <td>0.0039</td>\n",
       "      <td>3.1745</td>\n",
       "      <td>0.0584</td>\n",
       "      <td>0.0484</td>\n",
       "      <td>0.0148</td>\n",
       "      <td>82.860199</td>\n",
       "    </tr>\n",
       "  </tbody>\n",
       "</table>\n",
       "<p>3 rows × 474 columns</p>\n",
       "</div>"
      ],
      "text/plain": [
       "           0            1            2            3       4           5    \\\n",
       "0  3030.929932  2564.000000  2187.733398  1411.126465  1.3602   97.613297   \n",
       "1  3095.780029  2465.139893  2230.422119  1463.660645  0.8294  102.343300   \n",
       "2  2932.610107  2559.939941  2186.411133  1698.017212  1.5102   95.487801   \n",
       "\n",
       "      6       7       8       9    ...     464         465     466     467  \\\n",
       "0  0.1242  1.5005  0.0162 -0.0034  ...  0.0047   72.288902  0.5005  0.0118   \n",
       "1  0.1247  1.4966 -0.0005 -0.0148  ...  0.0060  208.204498  0.5019  0.0223   \n",
       "2  0.1241  1.4436  0.0041  0.0013  ...  0.0148   82.860199  0.4958  0.0157   \n",
       "\n",
       "      468     469     470     471     472         473  \n",
       "0  0.0035  2.3630  0.0205  0.0148  0.0046   71.900497  \n",
       "1  0.0055  4.4447  0.0096  0.0201  0.0060  208.204498  \n",
       "2  0.0039  3.1745  0.0584  0.0484  0.0148   82.860199  \n",
       "\n",
       "[3 rows x 474 columns]"
      ]
     },
     "execution_count": 85,
     "metadata": {},
     "output_type": "execute_result"
    }
   ],
   "source": [
    "Descriptors = np.asarray(Descriptors).astype(np.float32)\n",
    "Descriptors  = pd.DataFrame(Descriptors)\n",
    "Descriptors.head(3)"
   ]
  },
  {
   "cell_type": "code",
   "execution_count": null,
   "id": "f47cda07-dc5d-4d8a-946d-3f266b855f52",
   "metadata": {},
   "outputs": [],
   "source": [
    "Descriptors = np.asarray(Descriptors).astype(np.float32)  # Performs the normalization\n",
    "layer = tf.keras.layers.Normalization(axis=None)\n",
    "layer.adapt(Descriptors)\n",
    "Normalised_Data=layer(Descriptors)\n",
    "Descriptors = pd.DataFrame(Normalised_Data)"
   ]
  },
  {
   "cell_type": "code",
   "execution_count": 86,
   "id": "dc1dc02e-f3b4-4b69-8353-ee7d92d2ee9c",
   "metadata": {},
   "outputs": [
    {
     "data": {
      "text/html": [
       "<div>\n",
       "<style scoped>\n",
       "    .dataframe tbody tr th:only-of-type {\n",
       "        vertical-align: middle;\n",
       "    }\n",
       "\n",
       "    .dataframe tbody tr th {\n",
       "        vertical-align: top;\n",
       "    }\n",
       "\n",
       "    .dataframe thead th {\n",
       "        text-align: right;\n",
       "    }\n",
       "</style>\n",
       "<table border=\"1\" class=\"dataframe\">\n",
       "  <thead>\n",
       "    <tr style=\"text-align: right;\">\n",
       "      <th></th>\n",
       "      <th>0</th>\n",
       "      <th>1</th>\n",
       "      <th>2</th>\n",
       "      <th>3</th>\n",
       "      <th>4</th>\n",
       "      <th>5</th>\n",
       "      <th>6</th>\n",
       "      <th>7</th>\n",
       "      <th>8</th>\n",
       "      <th>9</th>\n",
       "      <th>...</th>\n",
       "      <th>465</th>\n",
       "      <th>466</th>\n",
       "      <th>467</th>\n",
       "      <th>468</th>\n",
       "      <th>469</th>\n",
       "      <th>470</th>\n",
       "      <th>471</th>\n",
       "      <th>472</th>\n",
       "      <th>473</th>\n",
       "      <th>Product Quality</th>\n",
       "    </tr>\n",
       "  </thead>\n",
       "  <tbody>\n",
       "    <tr>\n",
       "      <th>0</th>\n",
       "      <td>3030.929932</td>\n",
       "      <td>2564.000000</td>\n",
       "      <td>2187.733398</td>\n",
       "      <td>1411.126465</td>\n",
       "      <td>1.3602</td>\n",
       "      <td>97.613297</td>\n",
       "      <td>0.1242</td>\n",
       "      <td>1.5005</td>\n",
       "      <td>0.0162</td>\n",
       "      <td>-0.0034</td>\n",
       "      <td>...</td>\n",
       "      <td>72.288902</td>\n",
       "      <td>0.5005</td>\n",
       "      <td>0.0118</td>\n",
       "      <td>0.0035</td>\n",
       "      <td>2.3630</td>\n",
       "      <td>0.0205</td>\n",
       "      <td>0.0148</td>\n",
       "      <td>0.0046</td>\n",
       "      <td>71.900497</td>\n",
       "      <td>1</td>\n",
       "    </tr>\n",
       "    <tr>\n",
       "      <th>1</th>\n",
       "      <td>3095.780029</td>\n",
       "      <td>2465.139893</td>\n",
       "      <td>2230.422119</td>\n",
       "      <td>1463.660645</td>\n",
       "      <td>0.8294</td>\n",
       "      <td>102.343300</td>\n",
       "      <td>0.1247</td>\n",
       "      <td>1.4966</td>\n",
       "      <td>-0.0005</td>\n",
       "      <td>-0.0148</td>\n",
       "      <td>...</td>\n",
       "      <td>208.204498</td>\n",
       "      <td>0.5019</td>\n",
       "      <td>0.0223</td>\n",
       "      <td>0.0055</td>\n",
       "      <td>4.4447</td>\n",
       "      <td>0.0096</td>\n",
       "      <td>0.0201</td>\n",
       "      <td>0.0060</td>\n",
       "      <td>208.204498</td>\n",
       "      <td>1</td>\n",
       "    </tr>\n",
       "    <tr>\n",
       "      <th>2</th>\n",
       "      <td>2932.610107</td>\n",
       "      <td>2559.939941</td>\n",
       "      <td>2186.411133</td>\n",
       "      <td>1698.017212</td>\n",
       "      <td>1.5102</td>\n",
       "      <td>95.487801</td>\n",
       "      <td>0.1241</td>\n",
       "      <td>1.4436</td>\n",
       "      <td>0.0041</td>\n",
       "      <td>0.0013</td>\n",
       "      <td>...</td>\n",
       "      <td>82.860199</td>\n",
       "      <td>0.4958</td>\n",
       "      <td>0.0157</td>\n",
       "      <td>0.0039</td>\n",
       "      <td>3.1745</td>\n",
       "      <td>0.0584</td>\n",
       "      <td>0.0484</td>\n",
       "      <td>0.0148</td>\n",
       "      <td>82.860199</td>\n",
       "      <td>0</td>\n",
       "    </tr>\n",
       "  </tbody>\n",
       "</table>\n",
       "<p>3 rows × 475 columns</p>\n",
       "</div>"
      ],
      "text/plain": [
       "             0            1            2            3       4           5  \\\n",
       "0  3030.929932  2564.000000  2187.733398  1411.126465  1.3602   97.613297   \n",
       "1  3095.780029  2465.139893  2230.422119  1463.660645  0.8294  102.343300   \n",
       "2  2932.610107  2559.939941  2186.411133  1698.017212  1.5102   95.487801   \n",
       "\n",
       "        6       7       8       9  ...         465     466     467     468  \\\n",
       "0  0.1242  1.5005  0.0162 -0.0034  ...   72.288902  0.5005  0.0118  0.0035   \n",
       "1  0.1247  1.4966 -0.0005 -0.0148  ...  208.204498  0.5019  0.0223  0.0055   \n",
       "2  0.1241  1.4436  0.0041  0.0013  ...   82.860199  0.4958  0.0157  0.0039   \n",
       "\n",
       "      469     470     471     472         473  Product Quality  \n",
       "0  2.3630  0.0205  0.0148  0.0046   71.900497                1  \n",
       "1  4.4447  0.0096  0.0201  0.0060  208.204498                1  \n",
       "2  3.1745  0.0584  0.0484  0.0148   82.860199                0  \n",
       "\n",
       "[3 rows x 475 columns]"
      ]
     },
     "execution_count": 86,
     "metadata": {},
     "output_type": "execute_result"
    }
   ],
   "source": [
    "dataframes = [Descriptors, Class]              # merge the class variable column with the normalized descriptors columns\n",
    "modified_dataset = pd.concat(dataframes, axis=1)\n",
    "modified_dataset.head(3)"
   ]
  },
  {
   "cell_type": "markdown",
   "id": "f12f2248-4449-4ccd-8591-aa65fded66eb",
   "metadata": {},
   "source": [
    "#### Model Building"
   ]
  },
  {
   "cell_type": "markdown",
   "id": "a4212b63-88d7-4a6d-9ca8-8b170b1552c0",
   "metadata": {},
   "source": [
    "Training the auto-encoder network (Funcitonal API Model), to use the bottleneck layer as the reduced dimentionality for prediction engine"
   ]
  },
  {
   "cell_type": "code",
   "execution_count": 64,
   "id": "76f46cd7-4a6e-4f2a-8e85-595f942fad10",
   "metadata": {},
   "outputs": [],
   "source": [
    "Guiding_layer = Input(shape =(Descriptors.shape[1], ))\n",
    "\n",
    "en_layer1 = Dense(250,activation ='tanh',activity_regularizer = regularizers.l1(0.01))(Guiding_layer)\n",
    "en_Layer2 = Dense(125,activation ='tanh',activity_regularizer = regularizers.l1(0.01))(en_layer1)\n",
    "en_Layer3 = Dense(83,activation ='tanh',activity_regularizer = regularizers.l1(0.01))(en_Layer2)\n",
    "en_Layer4 = Dense(32,activation ='tanh',activity_regularizer = regularizers.l1(0.01))(en_Layer3)\n",
    "\n",
    "Bottleneck_layer = Dense(15, activation ='relu')(en_Layer4)       # Compressed dimentionality\n",
    "  \n",
    "\n",
    "de_layer1 = Dense(32,activation ='tanh')(Bottleneck_layer)\n",
    "de_layer2 = Dense(83,activation ='tanh')(de_layer1)\n",
    "de_layer3 = Dense(125,activation ='tanh')(de_layer2)\n",
    "de_layer4 = Dense(250,activation ='tanh')(de_layer3)\n",
    "  \n",
    "reconstructed_layer = Dense(Descriptors.shape[1], activation ='relu')(de_layer4)"
   ]
  },
  {
   "cell_type": "code",
   "execution_count": null,
   "id": "f62e67e5-e29f-40c8-af57-f948a8d90ef1",
   "metadata": {},
   "outputs": [],
   "source": [
    "autoencoder = Model(Guiding_layer, reconstructed_layer)\n",
    "autoencoder.compile(optimizer =\"adadelta\", loss =\"mse\")\n",
    "autoencoder.fit(Descriptors, Descriptors, \n",
    "                batch_size = 40, epochs = 12, \n",
    "                shuffle = True, validation_split = 0.20)"
   ]
  },
  {
   "cell_type": "markdown",
   "id": "4d60bc1b-9290-4950-a1fb-9785aac657b7",
   "metadata": {},
   "source": [
    "Dimensionlaity reduction using the encoder section(Sequencial API)"
   ]
  },
  {
   "cell_type": "code",
   "execution_count": 69,
   "id": "3b099c32-31ff-4fa4-b9e5-b7ae079515fa",
   "metadata": {
    "tags": []
   },
   "outputs": [],
   "source": [
    "Descriptors_Compressor = Sequential()\n",
    "Descriptors_Compressor.add(autoencoder.layers[0])\n",
    "Descriptors_Compressor.add(autoencoder.layers[1])\n",
    "Descriptors_Compressor.add(autoencoder.layers[2])\n",
    "Descriptors_Compressor.add(autoencoder.layers[3])\n",
    "Descriptors_Compressor.add(autoencoder.layers[4])  \n",
    "Descriptors_Compressor.add(autoencoder.layers[5]) # Bottlenecklayer"
   ]
  },
  {
   "cell_type": "code",
   "execution_count": 70,
   "id": "aa33723f-4db5-4a2f-b846-6d1e8fed0f29",
   "metadata": {},
   "outputs": [
    {
     "name": "stdout",
     "output_type": "stream",
     "text": [
      "49/49 [==============================] - 0s 2ms/step\n"
     ]
    }
   ],
   "source": [
    "Encoded_Descriptors = Descriptors_Compressor.predict(Descriptors)\n",
    "Encoded_Descriptors = pd.DataFrame(Encoded_Descriptors)"
   ]
  },
  {
   "cell_type": "markdown",
   "id": "41e693f1-055f-44ae-816b-ca284683dbfa",
   "metadata": {},
   "source": [
    "Now that the dataframe for SVM prediction has 15 descriptors(down from 500) and one label"
   ]
  },
  {
   "cell_type": "code",
   "execution_count": 72,
   "id": "64a3a0fe-212c-4864-a0ae-0fef6060ef1a",
   "metadata": {
    "tags": []
   },
   "outputs": [
    {
     "data": {
      "text/html": [
       "<div>\n",
       "<style scoped>\n",
       "    .dataframe tbody tr th:only-of-type {\n",
       "        vertical-align: middle;\n",
       "    }\n",
       "\n",
       "    .dataframe tbody tr th {\n",
       "        vertical-align: top;\n",
       "    }\n",
       "\n",
       "    .dataframe thead th {\n",
       "        text-align: right;\n",
       "    }\n",
       "</style>\n",
       "<table border=\"1\" class=\"dataframe\">\n",
       "  <thead>\n",
       "    <tr style=\"text-align: right;\">\n",
       "      <th></th>\n",
       "      <th>0</th>\n",
       "      <th>1</th>\n",
       "      <th>2</th>\n",
       "      <th>3</th>\n",
       "      <th>4</th>\n",
       "      <th>5</th>\n",
       "      <th>6</th>\n",
       "      <th>7</th>\n",
       "      <th>8</th>\n",
       "      <th>9</th>\n",
       "      <th>10</th>\n",
       "      <th>11</th>\n",
       "      <th>12</th>\n",
       "      <th>13</th>\n",
       "      <th>14</th>\n",
       "      <th>Product Quality</th>\n",
       "    </tr>\n",
       "  </thead>\n",
       "  <tbody>\n",
       "    <tr>\n",
       "      <th>0</th>\n",
       "      <td>0.52613</td>\n",
       "      <td>0.577982</td>\n",
       "      <td>0.101263</td>\n",
       "      <td>0.003088</td>\n",
       "      <td>0.0</td>\n",
       "      <td>0.375904</td>\n",
       "      <td>0.0</td>\n",
       "      <td>0.0</td>\n",
       "      <td>0.260246</td>\n",
       "      <td>0.0</td>\n",
       "      <td>0.0</td>\n",
       "      <td>0.0</td>\n",
       "      <td>0.0</td>\n",
       "      <td>0.013958</td>\n",
       "      <td>0.09806</td>\n",
       "      <td>1</td>\n",
       "    </tr>\n",
       "  </tbody>\n",
       "</table>\n",
       "</div>"
      ],
      "text/plain": [
       "         0         1         2         3    4         5    6    7         8  \\\n",
       "0  0.52613  0.577982  0.101263  0.003088  0.0  0.375904  0.0  0.0  0.260246   \n",
       "\n",
       "     9   10   11   12        13       14  Product Quality  \n",
       "0  0.0  0.0  0.0  0.0  0.013958  0.09806                1  "
      ]
     },
     "execution_count": 72,
     "metadata": {},
     "output_type": "execute_result"
    }
   ],
   "source": [
    "joinedframes = [Encoded_Descriptors, Class]\n",
    "Compressed_Data = pd.concat(joinedframes, axis=1)\n",
    "Compressed_Data.head(1)     "
   ]
  },
  {
   "cell_type": "markdown",
   "id": "16229222-690f-4d76-8408-5e9741b0bc27",
   "metadata": {},
   "source": [
    "SVM Classifier"
   ]
  },
  {
   "cell_type": "code",
   "execution_count": null,
   "id": "a0e7ca76-1943-4551-bd9d-09c3e26b6046",
   "metadata": {
    "collapsed": true,
    "jupyter": {
     "outputs_hidden": true
    },
    "tags": []
   },
   "outputs": [],
   "source": [
    "X_train, X_test, y_train, y_test = train_test_split(Encoded_Descriptors, Class, test_size = 0.2)  # Train-Test Split\n",
    "parameter_range = {'C': [0.001,0.004,0.1,0.5,1], 'gamma': [10,5,2,1],'kernel': ['rbf', 'poly','linear','sigmoid']} # Hyper-tuning to identify the best parameters\n",
    "tuned_model = GridSearchCV(SVC(),parameter_range,refit=True,verbose=2)\n",
    "tuned_model.fit(X_train,y_train)"
   ]
  },
  {
   "cell_type": "code",
   "execution_count": 74,
   "id": "5684b66a-0e6e-4cbb-89ef-7c132e7f873c",
   "metadata": {},
   "outputs": [
    {
     "name": "stdout",
     "output_type": "stream",
     "text": [
      "{'C': 0.001, 'gamma': 5, 'kernel': 'rbf'}\n"
     ]
    }
   ],
   "source": [
    "print(tuned_model.best_params_)"
   ]
  },
  {
   "cell_type": "code",
   "execution_count": 75,
   "id": "aa32a718-963d-4509-ac66-fda64cf6baa5",
   "metadata": {},
   "outputs": [
    {
     "name": "stdout",
     "output_type": "stream",
     "text": [
      "Accuracy : 0.9394904458598726\n"
     ]
    }
   ],
   "source": [
    "predicted_label = tuned_model.predict(X_test)\n",
    "print('Accuracy : '+str(accuracy_score(y_test, predicted_label)))"
   ]
  },
  {
   "cell_type": "markdown",
   "id": "817c4df7-2cc4-4a67-9efb-ddab73c3c7ad",
   "metadata": {},
   "source": [
    "### THE END"
   ]
  }
 ],
 "metadata": {
  "kernelspec": {
   "display_name": "Python 3 (ipykernel)",
   "language": "python",
   "name": "python3"
  },
  "language_info": {
   "codemirror_mode": {
    "name": "ipython",
    "version": 3
   },
   "file_extension": ".py",
   "mimetype": "text/x-python",
   "name": "python",
   "nbconvert_exporter": "python",
   "pygments_lexer": "ipython3",
   "version": "3.9.12"
  }
 },
 "nbformat": 4,
 "nbformat_minor": 5
}
