{
 "cells": [
  {
   "cell_type": "markdown",
   "id": "fdfb6a94-7ffb-473a-88a3-67514133c2c8",
   "metadata": {},
   "source": [
    "### SEMICONDUCTOR MANUFACTURING PRODUCT QUALITY PREDICTION"
   ]
  },
  {
   "cell_type": "markdown",
   "id": "a4dc15ee-9b45-4847-8f61-cbce5b6d3e91",
   "metadata": {},
   "source": [
    "**Highlights:**\n",
    " <br> 1. Unlike with machine learning algorithms, \n",
    " <br> 1.A: no dataset outliers treatment as the auto-encoder neural network is insensitive to them \n",
    " <br> 1.B: the multi-collinearity among the descriptors is also not bothered as the rigorous dimentionality reduction happens (quicker compared to PCA)\n",
    " <br> 2. Both the keras types of models are illustrated: Sequential API and Functional API\n",
    " <br> 3. All of the data is gathered from the sensors in real-time \n",
    " <br> 4. Dataset is labelled as 'Product Quality' where 1: Good 0: Bad\n",
    " <br> 5. Auto-encoder neural network is used as a dimentionality reduction technique\n",
    " <br> 6. Support vector machine uses the encoded data for the prediction of product quality"
   ]
  },
  {
   "cell_type": "markdown",
   "id": "1672dc32-fb2f-43aa-83a5-b3ef0d922852",
   "metadata": {},
   "source": [
    "Import all the necessary library packages"
   ]
  },
  {
   "cell_type": "code",
   "execution_count": 2,
   "id": "343db866-0eaf-4245-a565-656052090957",
   "metadata": {},
   "outputs": [],
   "source": [
    "import pandas as pd \n",
    "import numpy as np\n",
    "\n",
    "from sklearn.svm import SVC  \n",
    "from sklearn.model_selection import train_test_split\n",
    "from sklearn.model_selection import GridSearchCV\n",
    "from sklearn.metrics import classification_report, confusion_matrix \n",
    "\n",
    "import tensorflow as tf\n",
    "from tensorflow.keras import layers\n",
    "from keras.layers import Input, Dense\n",
    "from keras.models import Model, Sequential\n",
    "from keras import regularizers"
   ]
  },
  {
   "cell_type": "markdown",
   "id": "9366372b-25e1-4943-aedc-ced33e156533",
   "metadata": {},
   "source": [
    "Functions used"
   ]
  },
  {
   "cell_type": "code",
   "execution_count": 3,
   "id": "492c3d86-1794-4c0e-94e2-a3538f422031",
   "metadata": {},
   "outputs": [],
   "source": [
    "def getRedundantColumns(X):                                         \n",
    "    RedundantColumns = set()\n",
    "    for loc in range(X.shape[1]):\n",
    "        tocomparecolumn = X.iloc[:, loc]\n",
    "        for nextloc in range(loc + 1, X.shape[1]):\n",
    "            comparewithcolumn = X.iloc[:,nextloc]\n",
    "            if tocomparecolumn.equals(comparewithcolumn):\n",
    "                RedundantColumns.add(X.columns.values[nextloc])\n",
    "    return list(RedundantColumns)"
   ]
  },
  {
   "cell_type": "markdown",
   "id": "c2758fbb-5a94-4c35-8eca-66e305e6a206",
   "metadata": {},
   "source": [
    "#### Data Preparation"
   ]
  },
  {
   "cell_type": "code",
   "execution_count": 4,
   "id": "5d3fbc54-18a2-4b27-8081-1f35d85259de",
   "metadata": {},
   "outputs": [
    {
     "data": {
      "text/plain": [
       "Time          0\n",
       "0             6\n",
       "1             7\n",
       "2            14\n",
       "3            14\n",
       "             ..\n",
       "586           1\n",
       "587           1\n",
       "588           1\n",
       "589           1\n",
       "Pass/Fail     0\n",
       "Length: 592, dtype: int64"
      ]
     },
     "execution_count": 4,
     "metadata": {},
     "output_type": "execute_result"
    }
   ],
   "source": [
    "dataset = pd.read_csv('SMPQ.csv') \n",
    "dataset.isnull().sum()   # identifies the missing columns"
   ]
  },
  {
   "cell_type": "code",
   "execution_count": 5,
   "id": "0614f1d0-88c1-44fc-a7fc-b129d056d0a1",
   "metadata": {},
   "outputs": [
    {
     "name": "stderr",
     "output_type": "stream",
     "text": [
      "C:\\Users\\VPara-63417\\AppData\\Local\\Temp\\ipykernel_12520\\1731210136.py:2: FutureWarning: Dropping of nuisance columns in DataFrame reductions (with 'numeric_only=None') is deprecated; in a future version this will raise TypeError.  Select only valid columns before calling the reduction.\n",
      "  dataset = dataset.fillna(dataset.median())   # fill the NaN values in each column with their respective column median\n"
     ]
    },
    {
     "name": "stdout",
     "output_type": "stream",
     "text": [
      "Actual Dataset dimension: (1567, 592)\n"
     ]
    }
   ],
   "source": [
    "dataset.replace('', np.nan, inplace=True)    # replace miising values across the dataset with NaN\n",
    "dataset = dataset.fillna(dataset.median())   # fill the NaN values in each column with their respective column median\n",
    "# dataset.isnull().sum() # to know the number of column missing values afterwards\n",
    "print('Actual Dataset dimension:',dataset.shape)"
   ]
  },
  {
   "cell_type": "code",
   "execution_count": 6,
   "id": "9ac7ad59-2fee-4cbc-a8b5-4138884d79a7",
   "metadata": {},
   "outputs": [
    {
     "data": {
      "text/plain": [
       "array(['422', '231', '375', '322', '534', '194', '449', '378', '257',\n",
       "       '234', '186', '533', '498', '314', '261', '192', '528', '394',\n",
       "       '504', '259', '462', '450', '264', '399', '233', '189', '369',\n",
       "       '464', '97', '236', '397', '141', '262', '508', '404', '465',\n",
       "       '325', '190', '501', '513', '512', '536', '328', '240', '149',\n",
       "       '396', '515', '241', '329', '403', '481', '330', '505', '461',\n",
       "       '237', '535', '373', '364', '506', '380', '315', '178', '530',\n",
       "       '232', '507', '69', '243', '503', '379', '509', '242', '258',\n",
       "       '226', '256', '260', '402', '327', '326', '395', '179', '374',\n",
       "       '191', '266', '265', '370', '532', '230', '538', '229', '502',\n",
       "       '284', '529', '451', '537', '531', '263', '414', '52', '371',\n",
       "       '381', '458', '401', '514', '193', '276', '400', '463', '235',\n",
       "       '466', '398', '372', '313'], dtype='<U3')"
      ]
     },
     "execution_count": 6,
     "metadata": {},
     "output_type": "execute_result"
    }
   ],
   "source": [
    "RedundantColumns = np.array(getRedundantColumns(dataset))   # Identifying the duplicate columns\n",
    "RedundantColumns"
   ]
  },
  {
   "cell_type": "code",
   "execution_count": 7,
   "id": "bc07e795-cbcc-473c-a692-b5bac02cfa93",
   "metadata": {},
   "outputs": [
    {
     "name": "stdout",
     "output_type": "stream",
     "text": [
      "Dataset dimension after removing duplicate columns: (1567, 480)\n"
     ]
    }
   ],
   "source": [
    "dataset = dataset.T.drop_duplicates().T    # removes all of the above duplicate columns \n",
    "print('Dataset dimension after removing duplicate columns:',dataset.shape) "
   ]
  },
  {
   "cell_type": "code",
   "execution_count": 78,
   "id": "5206c71e-8e33-4f43-b135-015d17f98f62",
   "metadata": {
    "tags": []
   },
   "outputs": [
    {
     "ename": "KeyError",
     "evalue": "\"['Time'] not found in axis\"",
     "output_type": "error",
     "traceback": [
      "\u001b[1;31m---------------------------------------------------------------------------\u001b[0m",
      "\u001b[1;31mKeyError\u001b[0m                                  Traceback (most recent call last)",
      "Input \u001b[1;32mIn [78]\u001b[0m, in \u001b[0;36m<cell line: 1>\u001b[1;34m()\u001b[0m\n\u001b[1;32m----> 1\u001b[0m dataset \u001b[38;5;241m=\u001b[39m \u001b[43mdataset\u001b[49m\u001b[38;5;241;43m.\u001b[39;49m\u001b[43mdrop\u001b[49m\u001b[43m(\u001b[49m\u001b[43m[\u001b[49m\u001b[38;5;124;43m'\u001b[39;49m\u001b[38;5;124;43mTime\u001b[39;49m\u001b[38;5;124;43m'\u001b[39;49m\u001b[43m]\u001b[49m\u001b[43m,\u001b[49m\u001b[43m \u001b[49m\u001b[43maxis\u001b[49m\u001b[38;5;241;43m=\u001b[39;49m\u001b[38;5;241;43m1\u001b[39;49m\u001b[43m)\u001b[49m  \u001b[38;5;66;03m# Drop the 'Time' column as it is not needed\u001b[39;00m\n\u001b[0;32m      3\u001b[0m dataconsistency \u001b[38;5;241m=\u001b[39m dataset\u001b[38;5;241m.\u001b[39mnunique()       \u001b[38;5;66;03m# Identify whether the column data is identical for all the rows\u001b[39;00m\n\u001b[0;32m      4\u001b[0m inconsistant_columns \u001b[38;5;241m=\u001b[39m dataconsistency[dataconsistency \u001b[38;5;241m==\u001b[39m \u001b[38;5;241m1\u001b[39m]\u001b[38;5;241m.\u001b[39mindex\n",
      "File \u001b[1;32m~\\anaconda3\\lib\\site-packages\\pandas\\util\\_decorators.py:311\u001b[0m, in \u001b[0;36mdeprecate_nonkeyword_arguments.<locals>.decorate.<locals>.wrapper\u001b[1;34m(*args, **kwargs)\u001b[0m\n\u001b[0;32m    305\u001b[0m \u001b[38;5;28;01mif\u001b[39;00m \u001b[38;5;28mlen\u001b[39m(args) \u001b[38;5;241m>\u001b[39m num_allow_args:\n\u001b[0;32m    306\u001b[0m     warnings\u001b[38;5;241m.\u001b[39mwarn(\n\u001b[0;32m    307\u001b[0m         msg\u001b[38;5;241m.\u001b[39mformat(arguments\u001b[38;5;241m=\u001b[39marguments),\n\u001b[0;32m    308\u001b[0m         \u001b[38;5;167;01mFutureWarning\u001b[39;00m,\n\u001b[0;32m    309\u001b[0m         stacklevel\u001b[38;5;241m=\u001b[39mstacklevel,\n\u001b[0;32m    310\u001b[0m     )\n\u001b[1;32m--> 311\u001b[0m \u001b[38;5;28;01mreturn\u001b[39;00m func(\u001b[38;5;241m*\u001b[39margs, \u001b[38;5;241m*\u001b[39m\u001b[38;5;241m*\u001b[39mkwargs)\n",
      "File \u001b[1;32m~\\anaconda3\\lib\\site-packages\\pandas\\core\\frame.py:4954\u001b[0m, in \u001b[0;36mDataFrame.drop\u001b[1;34m(self, labels, axis, index, columns, level, inplace, errors)\u001b[0m\n\u001b[0;32m   4806\u001b[0m \u001b[38;5;129m@deprecate_nonkeyword_arguments\u001b[39m(version\u001b[38;5;241m=\u001b[39m\u001b[38;5;28;01mNone\u001b[39;00m, allowed_args\u001b[38;5;241m=\u001b[39m[\u001b[38;5;124m\"\u001b[39m\u001b[38;5;124mself\u001b[39m\u001b[38;5;124m\"\u001b[39m, \u001b[38;5;124m\"\u001b[39m\u001b[38;5;124mlabels\u001b[39m\u001b[38;5;124m\"\u001b[39m])\n\u001b[0;32m   4807\u001b[0m \u001b[38;5;28;01mdef\u001b[39;00m \u001b[38;5;21mdrop\u001b[39m(\n\u001b[0;32m   4808\u001b[0m     \u001b[38;5;28mself\u001b[39m,\n\u001b[1;32m   (...)\u001b[0m\n\u001b[0;32m   4815\u001b[0m     errors: \u001b[38;5;28mstr\u001b[39m \u001b[38;5;241m=\u001b[39m \u001b[38;5;124m\"\u001b[39m\u001b[38;5;124mraise\u001b[39m\u001b[38;5;124m\"\u001b[39m,\n\u001b[0;32m   4816\u001b[0m ):\n\u001b[0;32m   4817\u001b[0m     \u001b[38;5;124;03m\"\"\"\u001b[39;00m\n\u001b[0;32m   4818\u001b[0m \u001b[38;5;124;03m    Drop specified labels from rows or columns.\u001b[39;00m\n\u001b[0;32m   4819\u001b[0m \n\u001b[1;32m   (...)\u001b[0m\n\u001b[0;32m   4952\u001b[0m \u001b[38;5;124;03m            weight  1.0     0.8\u001b[39;00m\n\u001b[0;32m   4953\u001b[0m \u001b[38;5;124;03m    \"\"\"\u001b[39;00m\n\u001b[1;32m-> 4954\u001b[0m     \u001b[38;5;28;01mreturn\u001b[39;00m \u001b[38;5;28;43msuper\u001b[39;49m\u001b[43m(\u001b[49m\u001b[43m)\u001b[49m\u001b[38;5;241;43m.\u001b[39;49m\u001b[43mdrop\u001b[49m\u001b[43m(\u001b[49m\n\u001b[0;32m   4955\u001b[0m \u001b[43m        \u001b[49m\u001b[43mlabels\u001b[49m\u001b[38;5;241;43m=\u001b[39;49m\u001b[43mlabels\u001b[49m\u001b[43m,\u001b[49m\n\u001b[0;32m   4956\u001b[0m \u001b[43m        \u001b[49m\u001b[43maxis\u001b[49m\u001b[38;5;241;43m=\u001b[39;49m\u001b[43maxis\u001b[49m\u001b[43m,\u001b[49m\n\u001b[0;32m   4957\u001b[0m \u001b[43m        \u001b[49m\u001b[43mindex\u001b[49m\u001b[38;5;241;43m=\u001b[39;49m\u001b[43mindex\u001b[49m\u001b[43m,\u001b[49m\n\u001b[0;32m   4958\u001b[0m \u001b[43m        \u001b[49m\u001b[43mcolumns\u001b[49m\u001b[38;5;241;43m=\u001b[39;49m\u001b[43mcolumns\u001b[49m\u001b[43m,\u001b[49m\n\u001b[0;32m   4959\u001b[0m \u001b[43m        \u001b[49m\u001b[43mlevel\u001b[49m\u001b[38;5;241;43m=\u001b[39;49m\u001b[43mlevel\u001b[49m\u001b[43m,\u001b[49m\n\u001b[0;32m   4960\u001b[0m \u001b[43m        \u001b[49m\u001b[43minplace\u001b[49m\u001b[38;5;241;43m=\u001b[39;49m\u001b[43minplace\u001b[49m\u001b[43m,\u001b[49m\n\u001b[0;32m   4961\u001b[0m \u001b[43m        \u001b[49m\u001b[43merrors\u001b[49m\u001b[38;5;241;43m=\u001b[39;49m\u001b[43merrors\u001b[49m\u001b[43m,\u001b[49m\n\u001b[0;32m   4962\u001b[0m \u001b[43m    \u001b[49m\u001b[43m)\u001b[49m\n",
      "File \u001b[1;32m~\\anaconda3\\lib\\site-packages\\pandas\\core\\generic.py:4267\u001b[0m, in \u001b[0;36mNDFrame.drop\u001b[1;34m(self, labels, axis, index, columns, level, inplace, errors)\u001b[0m\n\u001b[0;32m   4265\u001b[0m \u001b[38;5;28;01mfor\u001b[39;00m axis, labels \u001b[38;5;129;01min\u001b[39;00m axes\u001b[38;5;241m.\u001b[39mitems():\n\u001b[0;32m   4266\u001b[0m     \u001b[38;5;28;01mif\u001b[39;00m labels \u001b[38;5;129;01mis\u001b[39;00m \u001b[38;5;129;01mnot\u001b[39;00m \u001b[38;5;28;01mNone\u001b[39;00m:\n\u001b[1;32m-> 4267\u001b[0m         obj \u001b[38;5;241m=\u001b[39m \u001b[43mobj\u001b[49m\u001b[38;5;241;43m.\u001b[39;49m\u001b[43m_drop_axis\u001b[49m\u001b[43m(\u001b[49m\u001b[43mlabels\u001b[49m\u001b[43m,\u001b[49m\u001b[43m \u001b[49m\u001b[43maxis\u001b[49m\u001b[43m,\u001b[49m\u001b[43m \u001b[49m\u001b[43mlevel\u001b[49m\u001b[38;5;241;43m=\u001b[39;49m\u001b[43mlevel\u001b[49m\u001b[43m,\u001b[49m\u001b[43m \u001b[49m\u001b[43merrors\u001b[49m\u001b[38;5;241;43m=\u001b[39;49m\u001b[43merrors\u001b[49m\u001b[43m)\u001b[49m\n\u001b[0;32m   4269\u001b[0m \u001b[38;5;28;01mif\u001b[39;00m inplace:\n\u001b[0;32m   4270\u001b[0m     \u001b[38;5;28mself\u001b[39m\u001b[38;5;241m.\u001b[39m_update_inplace(obj)\n",
      "File \u001b[1;32m~\\anaconda3\\lib\\site-packages\\pandas\\core\\generic.py:4311\u001b[0m, in \u001b[0;36mNDFrame._drop_axis\u001b[1;34m(self, labels, axis, level, errors, consolidate, only_slice)\u001b[0m\n\u001b[0;32m   4309\u001b[0m         new_axis \u001b[38;5;241m=\u001b[39m axis\u001b[38;5;241m.\u001b[39mdrop(labels, level\u001b[38;5;241m=\u001b[39mlevel, errors\u001b[38;5;241m=\u001b[39merrors)\n\u001b[0;32m   4310\u001b[0m     \u001b[38;5;28;01melse\u001b[39;00m:\n\u001b[1;32m-> 4311\u001b[0m         new_axis \u001b[38;5;241m=\u001b[39m \u001b[43maxis\u001b[49m\u001b[38;5;241;43m.\u001b[39;49m\u001b[43mdrop\u001b[49m\u001b[43m(\u001b[49m\u001b[43mlabels\u001b[49m\u001b[43m,\u001b[49m\u001b[43m \u001b[49m\u001b[43merrors\u001b[49m\u001b[38;5;241;43m=\u001b[39;49m\u001b[43merrors\u001b[49m\u001b[43m)\u001b[49m\n\u001b[0;32m   4312\u001b[0m     indexer \u001b[38;5;241m=\u001b[39m axis\u001b[38;5;241m.\u001b[39mget_indexer(new_axis)\n\u001b[0;32m   4314\u001b[0m \u001b[38;5;66;03m# Case for non-unique axis\u001b[39;00m\n\u001b[0;32m   4315\u001b[0m \u001b[38;5;28;01melse\u001b[39;00m:\n",
      "File \u001b[1;32m~\\anaconda3\\lib\\site-packages\\pandas\\core\\indexes\\base.py:6644\u001b[0m, in \u001b[0;36mIndex.drop\u001b[1;34m(self, labels, errors)\u001b[0m\n\u001b[0;32m   6642\u001b[0m \u001b[38;5;28;01mif\u001b[39;00m mask\u001b[38;5;241m.\u001b[39many():\n\u001b[0;32m   6643\u001b[0m     \u001b[38;5;28;01mif\u001b[39;00m errors \u001b[38;5;241m!=\u001b[39m \u001b[38;5;124m\"\u001b[39m\u001b[38;5;124mignore\u001b[39m\u001b[38;5;124m\"\u001b[39m:\n\u001b[1;32m-> 6644\u001b[0m         \u001b[38;5;28;01mraise\u001b[39;00m \u001b[38;5;167;01mKeyError\u001b[39;00m(\u001b[38;5;124mf\u001b[39m\u001b[38;5;124m\"\u001b[39m\u001b[38;5;132;01m{\u001b[39;00m\u001b[38;5;28mlist\u001b[39m(labels[mask])\u001b[38;5;132;01m}\u001b[39;00m\u001b[38;5;124m not found in axis\u001b[39m\u001b[38;5;124m\"\u001b[39m)\n\u001b[0;32m   6645\u001b[0m     indexer \u001b[38;5;241m=\u001b[39m indexer[\u001b[38;5;241m~\u001b[39mmask]\n\u001b[0;32m   6646\u001b[0m \u001b[38;5;28;01mreturn\u001b[39;00m \u001b[38;5;28mself\u001b[39m\u001b[38;5;241m.\u001b[39mdelete(indexer)\n",
      "\u001b[1;31mKeyError\u001b[0m: \"['Time'] not found in axis\""
     ]
    }
   ],
   "source": [
    "dataset = dataset.drop(['Time'], axis=1)  # Drop the 'Time' column as it is not needed\n",
    "\n",
    "dataconsistency = dataset.nunique()       # Identify whether the column data is identical for all the rows\n",
    "inconsistant_columns = dataconsistency[dataconsistency == 1].index\n",
    "dataset = dataset.drop(inconsistant_columns, axis=1) # drop the columns with no data variation\n",
    "print('Dataset dimension after removing useless columns:',dataset.shape)   # columns with all the rows having same data\n",
    "dataset.head(3)"
   ]
  },
  {
   "cell_type": "code",
   "execution_count": null,
   "id": "3feb8d46-e5b5-4371-b5c8-115828c13680",
   "metadata": {},
   "outputs": [],
   "source": [
    "# Seperate the class variable with the descriptors, as the normalization must be performed only with non-class variable\n",
    "Descriptors = dataset.iloc[:,:-1].values      \n",
    "Class = pd.DataFrame(dataset.iloc[:,-1].values)\n",
    "Class = Class.rename(columns={Class.columns[0]: 'Product Quality'})  # Renaming the label\n",
    "Class['Product Quality'] = Class['Product Quality'].replace([-1,1],[1,0])    # 1: Good, 0: Bad"
   ]
  },
  {
   "cell_type": "code",
   "execution_count": 77,
   "id": "7355a2f0-939f-4017-98b1-60898699a2d6",
   "metadata": {},
   "outputs": [
    {
     "data": {
      "text/html": [
       "<div>\n",
       "<style scoped>\n",
       "    .dataframe tbody tr th:only-of-type {\n",
       "        vertical-align: middle;\n",
       "    }\n",
       "\n",
       "    .dataframe tbody tr th {\n",
       "        vertical-align: top;\n",
       "    }\n",
       "\n",
       "    .dataframe thead th {\n",
       "        text-align: right;\n",
       "    }\n",
       "</style>\n",
       "<table border=\"1\" class=\"dataframe\">\n",
       "  <thead>\n",
       "    <tr style=\"text-align: right;\">\n",
       "      <th></th>\n",
       "      <th>0</th>\n",
       "      <th>1</th>\n",
       "      <th>2</th>\n",
       "      <th>3</th>\n",
       "      <th>4</th>\n",
       "      <th>5</th>\n",
       "      <th>6</th>\n",
       "      <th>7</th>\n",
       "      <th>8</th>\n",
       "      <th>9</th>\n",
       "      <th>...</th>\n",
       "      <th>464</th>\n",
       "      <th>465</th>\n",
       "      <th>466</th>\n",
       "      <th>467</th>\n",
       "      <th>468</th>\n",
       "      <th>469</th>\n",
       "      <th>470</th>\n",
       "      <th>471</th>\n",
       "      <th>472</th>\n",
       "      <th>473</th>\n",
       "    </tr>\n",
       "  </thead>\n",
       "  <tbody>\n",
       "    <tr>\n",
       "      <th>0</th>\n",
       "      <td>3.626271</td>\n",
       "      <td>3.046981</td>\n",
       "      <td>2.580172</td>\n",
       "      <td>1.616686</td>\n",
       "      <td>-0.132319</td>\n",
       "      <td>-0.012904</td>\n",
       "      <td>-0.133853</td>\n",
       "      <td>-0.132145</td>\n",
       "      <td>-0.133987</td>\n",
       "      <td>-0.134011</td>\n",
       "      <td>...</td>\n",
       "      <td>-0.134001</td>\n",
       "      <td>-0.044322</td>\n",
       "      <td>-0.133386</td>\n",
       "      <td>-0.133992</td>\n",
       "      <td>-0.134002</td>\n",
       "      <td>-0.131075</td>\n",
       "      <td>-0.133981</td>\n",
       "      <td>-0.133988</td>\n",
       "      <td>-0.134001</td>\n",
       "      <td>-0.044804</td>\n",
       "    </tr>\n",
       "    <tr>\n",
       "      <th>1</th>\n",
       "      <td>3.706726</td>\n",
       "      <td>2.924332</td>\n",
       "      <td>2.633133</td>\n",
       "      <td>1.681862</td>\n",
       "      <td>-0.132978</td>\n",
       "      <td>-0.007036</td>\n",
       "      <td>-0.133852</td>\n",
       "      <td>-0.132150</td>\n",
       "      <td>-0.134007</td>\n",
       "      <td>-0.134025</td>\n",
       "      <td>...</td>\n",
       "      <td>-0.133999</td>\n",
       "      <td>0.124299</td>\n",
       "      <td>-0.133384</td>\n",
       "      <td>-0.133979</td>\n",
       "      <td>-0.134000</td>\n",
       "      <td>-0.128492</td>\n",
       "      <td>-0.133995</td>\n",
       "      <td>-0.133982</td>\n",
       "      <td>-0.133999</td>\n",
       "      <td>0.124299</td>\n",
       "    </tr>\n",
       "    <tr>\n",
       "      <th>2</th>\n",
       "      <td>3.504292</td>\n",
       "      <td>3.041944</td>\n",
       "      <td>2.578531</td>\n",
       "      <td>1.972613</td>\n",
       "      <td>-0.132133</td>\n",
       "      <td>-0.015541</td>\n",
       "      <td>-0.133853</td>\n",
       "      <td>-0.132216</td>\n",
       "      <td>-0.134002</td>\n",
       "      <td>-0.134005</td>\n",
       "      <td>...</td>\n",
       "      <td>-0.133988</td>\n",
       "      <td>-0.031207</td>\n",
       "      <td>-0.133391</td>\n",
       "      <td>-0.133987</td>\n",
       "      <td>-0.134002</td>\n",
       "      <td>-0.130068</td>\n",
       "      <td>-0.133934</td>\n",
       "      <td>-0.133947</td>\n",
       "      <td>-0.133988</td>\n",
       "      <td>-0.031207</td>\n",
       "    </tr>\n",
       "    <tr>\n",
       "      <th>3</th>\n",
       "      <td>3.573904</td>\n",
       "      <td>2.942644</td>\n",
       "      <td>2.594191</td>\n",
       "      <td>0.994714</td>\n",
       "      <td>-0.132368</td>\n",
       "      <td>-0.004687</td>\n",
       "      <td>-0.133856</td>\n",
       "      <td>-0.132160</td>\n",
       "      <td>-0.134022</td>\n",
       "      <td>-0.134011</td>\n",
       "      <td>...</td>\n",
       "      <td>-0.134001</td>\n",
       "      <td>-0.042394</td>\n",
       "      <td>-0.133388</td>\n",
       "      <td>-0.133994</td>\n",
       "      <td>-0.134004</td>\n",
       "      <td>-0.131458</td>\n",
       "      <td>-0.133982</td>\n",
       "      <td>-0.133988</td>\n",
       "      <td>-0.134001</td>\n",
       "      <td>-0.042394</td>\n",
       "    </tr>\n",
       "    <tr>\n",
       "      <th>4</th>\n",
       "      <td>3.627896</td>\n",
       "      <td>2.971141</td>\n",
       "      <td>2.636786</td>\n",
       "      <td>1.511721</td>\n",
       "      <td>-0.132104</td>\n",
       "      <td>-0.009451</td>\n",
       "      <td>-0.133853</td>\n",
       "      <td>-0.132142</td>\n",
       "      <td>-0.134010</td>\n",
       "      <td>-0.134016</td>\n",
       "      <td>...</td>\n",
       "      <td>-0.134001</td>\n",
       "      <td>-0.044322</td>\n",
       "      <td>-0.133411</td>\n",
       "      <td>-0.133415</td>\n",
       "      <td>-0.133877</td>\n",
       "      <td>-0.010808</td>\n",
       "      <td>-0.133982</td>\n",
       "      <td>-0.133988</td>\n",
       "      <td>-0.134001</td>\n",
       "      <td>-0.042394</td>\n",
       "    </tr>\n",
       "  </tbody>\n",
       "</table>\n",
       "<p>5 rows × 474 columns</p>\n",
       "</div>"
      ],
      "text/plain": [
       "        0         1         2         3         4         5         6    \\\n",
       "0  3.626271  3.046981  2.580172  1.616686 -0.132319 -0.012904 -0.133853   \n",
       "1  3.706726  2.924332  2.633133  1.681862 -0.132978 -0.007036 -0.133852   \n",
       "2  3.504292  3.041944  2.578531  1.972613 -0.132133 -0.015541 -0.133853   \n",
       "3  3.573904  2.942644  2.594191  0.994714 -0.132368 -0.004687 -0.133856   \n",
       "4  3.627896  2.971141  2.636786  1.511721 -0.132104 -0.009451 -0.133853   \n",
       "\n",
       "        7         8         9    ...       464       465       466       467  \\\n",
       "0 -0.132145 -0.133987 -0.134011  ... -0.134001 -0.044322 -0.133386 -0.133992   \n",
       "1 -0.132150 -0.134007 -0.134025  ... -0.133999  0.124299 -0.133384 -0.133979   \n",
       "2 -0.132216 -0.134002 -0.134005  ... -0.133988 -0.031207 -0.133391 -0.133987   \n",
       "3 -0.132160 -0.134022 -0.134011  ... -0.134001 -0.042394 -0.133388 -0.133994   \n",
       "4 -0.132142 -0.134010 -0.134016  ... -0.134001 -0.044322 -0.133411 -0.133415   \n",
       "\n",
       "        468       469       470       471       472       473  \n",
       "0 -0.134002 -0.131075 -0.133981 -0.133988 -0.134001 -0.044804  \n",
       "1 -0.134000 -0.128492 -0.133995 -0.133982 -0.133999  0.124299  \n",
       "2 -0.134002 -0.130068 -0.133934 -0.133947 -0.133988 -0.031207  \n",
       "3 -0.134004 -0.131458 -0.133982 -0.133988 -0.134001 -0.042394  \n",
       "4 -0.133877 -0.010808 -0.133982 -0.133988 -0.134001 -0.042394  \n",
       "\n",
       "[5 rows x 474 columns]"
      ]
     },
     "execution_count": 77,
     "metadata": {},
     "output_type": "execute_result"
    }
   ],
   "source": [
    "Descriptors = np.asarray(Descriptors).astype(np.float32)\n",
    "Descriptors  = pd.DataFrame(Descriptors)\n",
    "Descriptors.head(5)"
   ]
  },
  {
   "cell_type": "code",
   "execution_count": null,
   "id": "f47cda07-dc5d-4d8a-946d-3f266b855f52",
   "metadata": {},
   "outputs": [],
   "source": [
    "Descriptors = np.asarray(Descriptors).astype(np.float32)  # Performs the normalization\n",
    "layer = tf.keras.layers.Normalization(axis=None)\n",
    "layer.adapt(Descriptors)\n",
    "Normalised_Data=layer(Descriptors)\n",
    "Descriptors = pd.DataFrame(Normalised_Data)"
   ]
  },
  {
   "cell_type": "code",
   "execution_count": null,
   "id": "dc1dc02e-f3b4-4b69-8353-ee7d92d2ee9c",
   "metadata": {},
   "outputs": [],
   "source": [
    "dataframes = [Descriptors, Class]              # merge the class variable column with the normalized descriptors columns\n",
    "modified_dataset = pd.concat(dataframes, axis=1)"
   ]
  },
  {
   "cell_type": "markdown",
   "id": "f12f2248-4449-4ccd-8591-aa65fded66eb",
   "metadata": {},
   "source": [
    "#### Model Building"
   ]
  },
  {
   "cell_type": "markdown",
   "id": "a4212b63-88d7-4a6d-9ca8-8b170b1552c0",
   "metadata": {},
   "source": [
    "Training the auto-encoder network (Funcitonal API Model), to use the bottleneck layer as the reduced dimentionality for prediction engine"
   ]
  },
  {
   "cell_type": "code",
   "execution_count": 64,
   "id": "76f46cd7-4a6e-4f2a-8e85-595f942fad10",
   "metadata": {},
   "outputs": [],
   "source": [
    "Guiding_layer = Input(shape =(Descriptors.shape[1], ))\n",
    "\n",
    "en_layer1 = Dense(250,activation ='tanh',activity_regularizer = regularizers.l1(0.01))(Guiding_layer)\n",
    "en_Layer2 = Dense(125,activation ='tanh',activity_regularizer = regularizers.l1(0.01))(en_layer1)\n",
    "en_Layer3 = Dense(83,activation ='tanh',activity_regularizer = regularizers.l1(0.01))(en_Layer2)\n",
    "en_Layer4 = Dense(32,activation ='tanh',activity_regularizer = regularizers.l1(0.01))(en_Layer3)\n",
    "\n",
    "Bottleneck_layer = Dense(15, activation ='relu')(en_Layer4)       # Compressed dimentionality\n",
    "  \n",
    "\n",
    "de_layer1 = Dense(32,activation ='tanh')(Bottleneck_layer)\n",
    "de_layer2 = Dense(83,activation ='tanh')(de_layer1)\n",
    "de_layer3 = Dense(125,activation ='tanh')(de_layer2)\n",
    "de_layer4 = Dense(250,activation ='tanh')(de_layer3)\n",
    "  \n",
    "reconstructed_layer = Dense(Descriptors.shape[1], activation ='relu')(de_layer4)"
   ]
  },
  {
   "cell_type": "code",
   "execution_count": 68,
   "id": "f62e67e5-e29f-40c8-af57-f948a8d90ef1",
   "metadata": {},
   "outputs": [
    {
     "name": "stdout",
     "output_type": "stream",
     "text": [
      "Epoch 1/12\n",
      "32/32 [==============================] - 2s 24ms/step - loss: 3.2755 - val_loss: 3.3376\n",
      "Epoch 2/12\n",
      "32/32 [==============================] - 0s 9ms/step - loss: 3.2632 - val_loss: 3.3256\n",
      "Epoch 3/12\n",
      "32/32 [==============================] - 0s 9ms/step - loss: 3.2509 - val_loss: 3.3134\n",
      "Epoch 4/12\n",
      "32/32 [==============================] - 0s 9ms/step - loss: 3.2385 - val_loss: 3.3013\n",
      "Epoch 5/12\n",
      "32/32 [==============================] - 0s 9ms/step - loss: 3.2262 - val_loss: 3.2891\n",
      "Epoch 6/12\n",
      "32/32 [==============================] - 0s 8ms/step - loss: 3.2139 - val_loss: 3.2769\n",
      "Epoch 7/12\n",
      "32/32 [==============================] - 0s 8ms/step - loss: 3.2016 - val_loss: 3.2647\n",
      "Epoch 8/12\n",
      "32/32 [==============================] - 1s 18ms/step - loss: 3.1893 - val_loss: 3.2525\n",
      "Epoch 9/12\n",
      "32/32 [==============================] - 1s 19ms/step - loss: 3.1771 - val_loss: 3.2403\n",
      "Epoch 10/12\n",
      "32/32 [==============================] - 1s 18ms/step - loss: 3.1648 - val_loss: 3.2281\n",
      "Epoch 11/12\n",
      "32/32 [==============================] - 0s 14ms/step - loss: 3.1525 - val_loss: 3.2160\n",
      "Epoch 12/12\n",
      "32/32 [==============================] - 1s 18ms/step - loss: 3.1403 - val_loss: 3.2039\n"
     ]
    },
    {
     "data": {
      "text/plain": [
       "<keras.callbacks.History at 0x20cc5f67a30>"
      ]
     },
     "execution_count": 68,
     "metadata": {},
     "output_type": "execute_result"
    }
   ],
   "source": [
    "autoencoder = Model(Guiding_layer, reconstructed_layer)\n",
    "autoencoder.compile(optimizer =\"adadelta\", loss =\"mse\")\n",
    "autoencoder.fit(Descriptors, Descriptors, \n",
    "                batch_size = 40, epochs = 12, \n",
    "                shuffle = True, validation_split = 0.20)"
   ]
  },
  {
   "cell_type": "markdown",
   "id": "4d60bc1b-9290-4950-a1fb-9785aac657b7",
   "metadata": {},
   "source": [
    "Dimensionlaity reduction using the encoder section(Sequencial API)"
   ]
  },
  {
   "cell_type": "code",
   "execution_count": 69,
   "id": "3b099c32-31ff-4fa4-b9e5-b7ae079515fa",
   "metadata": {
    "tags": []
   },
   "outputs": [],
   "source": [
    "Descriptors_Compressor = Sequential()\n",
    "Descriptors_Compressor.add(autoencoder.layers[0])\n",
    "Descriptors_Compressor.add(autoencoder.layers[1])\n",
    "Descriptors_Compressor.add(autoencoder.layers[2])\n",
    "Descriptors_Compressor.add(autoencoder.layers[3])\n",
    "Descriptors_Compressor.add(autoencoder.layers[4])  \n",
    "Descriptors_Compressor.add(autoencoder.layers[5]) # Bottlenecklayer"
   ]
  },
  {
   "cell_type": "code",
   "execution_count": 70,
   "id": "aa33723f-4db5-4a2f-b846-6d1e8fed0f29",
   "metadata": {},
   "outputs": [
    {
     "name": "stdout",
     "output_type": "stream",
     "text": [
      "49/49 [==============================] - 0s 2ms/step\n"
     ]
    }
   ],
   "source": [
    "Encoded_Descriptors = Descriptors_Compressor.predict(Descriptors)\n",
    "Encoded_Descriptors = pd.DataFrame(Encoded_Descriptors)"
   ]
  },
  {
   "cell_type": "markdown",
   "id": "41e693f1-055f-44ae-816b-ca284683dbfa",
   "metadata": {},
   "source": [
    "Now that the dataframe for SVM prediction has 15 descriptors(down from 500) and one label"
   ]
  },
  {
   "cell_type": "code",
   "execution_count": 72,
   "id": "64a3a0fe-212c-4864-a0ae-0fef6060ef1a",
   "metadata": {
    "tags": []
   },
   "outputs": [
    {
     "data": {
      "text/html": [
       "<div>\n",
       "<style scoped>\n",
       "    .dataframe tbody tr th:only-of-type {\n",
       "        vertical-align: middle;\n",
       "    }\n",
       "\n",
       "    .dataframe tbody tr th {\n",
       "        vertical-align: top;\n",
       "    }\n",
       "\n",
       "    .dataframe thead th {\n",
       "        text-align: right;\n",
       "    }\n",
       "</style>\n",
       "<table border=\"1\" class=\"dataframe\">\n",
       "  <thead>\n",
       "    <tr style=\"text-align: right;\">\n",
       "      <th></th>\n",
       "      <th>0</th>\n",
       "      <th>1</th>\n",
       "      <th>2</th>\n",
       "      <th>3</th>\n",
       "      <th>4</th>\n",
       "      <th>5</th>\n",
       "      <th>6</th>\n",
       "      <th>7</th>\n",
       "      <th>8</th>\n",
       "      <th>9</th>\n",
       "      <th>10</th>\n",
       "      <th>11</th>\n",
       "      <th>12</th>\n",
       "      <th>13</th>\n",
       "      <th>14</th>\n",
       "      <th>Product Quality</th>\n",
       "    </tr>\n",
       "  </thead>\n",
       "  <tbody>\n",
       "    <tr>\n",
       "      <th>0</th>\n",
       "      <td>0.52613</td>\n",
       "      <td>0.577982</td>\n",
       "      <td>0.101263</td>\n",
       "      <td>0.003088</td>\n",
       "      <td>0.0</td>\n",
       "      <td>0.375904</td>\n",
       "      <td>0.0</td>\n",
       "      <td>0.0</td>\n",
       "      <td>0.260246</td>\n",
       "      <td>0.0</td>\n",
       "      <td>0.0</td>\n",
       "      <td>0.0</td>\n",
       "      <td>0.0</td>\n",
       "      <td>0.013958</td>\n",
       "      <td>0.09806</td>\n",
       "      <td>1</td>\n",
       "    </tr>\n",
       "  </tbody>\n",
       "</table>\n",
       "</div>"
      ],
      "text/plain": [
       "         0         1         2         3    4         5    6    7         8  \\\n",
       "0  0.52613  0.577982  0.101263  0.003088  0.0  0.375904  0.0  0.0  0.260246   \n",
       "\n",
       "     9   10   11   12        13       14  Product Quality  \n",
       "0  0.0  0.0  0.0  0.0  0.013958  0.09806                1  "
      ]
     },
     "execution_count": 72,
     "metadata": {},
     "output_type": "execute_result"
    }
   ],
   "source": [
    "joinedframes = [Encoded_Descriptors, Class]\n",
    "Compressed_Data = pd.concat(joinedframes, axis=1)\n",
    "Compressed_Data.head(1)     "
   ]
  },
  {
   "cell_type": "markdown",
   "id": "16229222-690f-4d76-8408-5e9741b0bc27",
   "metadata": {},
   "source": [
    "SVM Classifier"
   ]
  },
  {
   "cell_type": "code",
   "execution_count": 73,
   "id": "a0e7ca76-1943-4551-bd9d-09c3e26b6046",
   "metadata": {
    "collapsed": true,
    "jupyter": {
     "outputs_hidden": true
    },
    "tags": []
   },
   "outputs": [
    {
     "name": "stdout",
     "output_type": "stream",
     "text": [
      "Fitting 5 folds for each of 8 candidates, totalling 40 fits\n",
      "[CV] END .......................C=0.001, gamma=5, kernel=rbf; total time=   0.0s\n",
      "[CV] END .......................C=0.001, gamma=5, kernel=rbf; total time=   0.0s\n",
      "[CV] END .......................C=0.001, gamma=5, kernel=rbf; total time=   0.0s\n",
      "[CV] END .......................C=0.001, gamma=5, kernel=rbf; total time=   0.0s\n",
      "[CV] END .......................C=0.001, gamma=5, kernel=rbf; total time=   0.0s\n"
     ]
    },
    {
     "name": "stderr",
     "output_type": "stream",
     "text": [
      "C:\\Users\\VPara-63417\\anaconda3\\lib\\site-packages\\sklearn\\utils\\validation.py:993: DataConversionWarning: A column-vector y was passed when a 1d array was expected. Please change the shape of y to (n_samples, ), for example using ravel().\n",
      "  y = column_or_1d(y, warn=True)\n",
      "C:\\Users\\VPara-63417\\anaconda3\\lib\\site-packages\\sklearn\\utils\\validation.py:993: DataConversionWarning: A column-vector y was passed when a 1d array was expected. Please change the shape of y to (n_samples, ), for example using ravel().\n",
      "  y = column_or_1d(y, warn=True)\n",
      "C:\\Users\\VPara-63417\\anaconda3\\lib\\site-packages\\sklearn\\utils\\validation.py:993: DataConversionWarning: A column-vector y was passed when a 1d array was expected. Please change the shape of y to (n_samples, ), for example using ravel().\n",
      "  y = column_or_1d(y, warn=True)\n",
      "C:\\Users\\VPara-63417\\anaconda3\\lib\\site-packages\\sklearn\\utils\\validation.py:993: DataConversionWarning: A column-vector y was passed when a 1d array was expected. Please change the shape of y to (n_samples, ), for example using ravel().\n",
      "  y = column_or_1d(y, warn=True)\n",
      "C:\\Users\\VPara-63417\\anaconda3\\lib\\site-packages\\sklearn\\utils\\validation.py:993: DataConversionWarning: A column-vector y was passed when a 1d array was expected. Please change the shape of y to (n_samples, ), for example using ravel().\n",
      "  y = column_or_1d(y, warn=True)\n",
      "C:\\Users\\VPara-63417\\anaconda3\\lib\\site-packages\\sklearn\\utils\\validation.py:993: DataConversionWarning: A column-vector y was passed when a 1d array was expected. Please change the shape of y to (n_samples, ), for example using ravel().\n",
      "  y = column_or_1d(y, warn=True)\n",
      "C:\\Users\\VPara-63417\\anaconda3\\lib\\site-packages\\sklearn\\utils\\validation.py:993: DataConversionWarning: A column-vector y was passed when a 1d array was expected. Please change the shape of y to (n_samples, ), for example using ravel().\n",
      "  y = column_or_1d(y, warn=True)\n",
      "C:\\Users\\VPara-63417\\anaconda3\\lib\\site-packages\\sklearn\\utils\\validation.py:993: DataConversionWarning: A column-vector y was passed when a 1d array was expected. Please change the shape of y to (n_samples, ), for example using ravel().\n",
      "  y = column_or_1d(y, warn=True)\n",
      "C:\\Users\\VPara-63417\\anaconda3\\lib\\site-packages\\sklearn\\utils\\validation.py:993: DataConversionWarning: A column-vector y was passed when a 1d array was expected. Please change the shape of y to (n_samples, ), for example using ravel().\n",
      "  y = column_or_1d(y, warn=True)\n",
      "C:\\Users\\VPara-63417\\anaconda3\\lib\\site-packages\\sklearn\\utils\\validation.py:993: DataConversionWarning: A column-vector y was passed when a 1d array was expected. Please change the shape of y to (n_samples, ), for example using ravel().\n",
      "  y = column_or_1d(y, warn=True)\n"
     ]
    },
    {
     "name": "stdout",
     "output_type": "stream",
     "text": [
      "[CV] END ......................C=0.001, gamma=5, kernel=poly; total time=   0.0s\n",
      "[CV] END ......................C=0.001, gamma=5, kernel=poly; total time=   0.0s\n",
      "[CV] END ......................C=0.001, gamma=5, kernel=poly; total time=   0.0s\n",
      "[CV] END ......................C=0.001, gamma=5, kernel=poly; total time=   0.0s\n",
      "[CV] END ......................C=0.001, gamma=5, kernel=poly; total time=   0.0s\n",
      "[CV] END .......................C=0.001, gamma=1, kernel=rbf; total time=   0.0s\n",
      "[CV] END .......................C=0.001, gamma=1, kernel=rbf; total time=   0.0s\n",
      "[CV] END .......................C=0.001, gamma=1, kernel=rbf; total time=   0.0s\n",
      "[CV] END .......................C=0.001, gamma=1, kernel=rbf; total time=   0.0s\n",
      "[CV] END .......................C=0.001, gamma=1, kernel=rbf; total time=   0.0s\n",
      "[CV] END ......................C=0.001, gamma=1, kernel=poly; total time=   0.0s\n"
     ]
    },
    {
     "name": "stderr",
     "output_type": "stream",
     "text": [
      "C:\\Users\\VPara-63417\\anaconda3\\lib\\site-packages\\sklearn\\utils\\validation.py:993: DataConversionWarning: A column-vector y was passed when a 1d array was expected. Please change the shape of y to (n_samples, ), for example using ravel().\n",
      "  y = column_or_1d(y, warn=True)\n",
      "C:\\Users\\VPara-63417\\anaconda3\\lib\\site-packages\\sklearn\\utils\\validation.py:993: DataConversionWarning: A column-vector y was passed when a 1d array was expected. Please change the shape of y to (n_samples, ), for example using ravel().\n",
      "  y = column_or_1d(y, warn=True)\n",
      "C:\\Users\\VPara-63417\\anaconda3\\lib\\site-packages\\sklearn\\utils\\validation.py:993: DataConversionWarning: A column-vector y was passed when a 1d array was expected. Please change the shape of y to (n_samples, ), for example using ravel().\n",
      "  y = column_or_1d(y, warn=True)\n",
      "C:\\Users\\VPara-63417\\anaconda3\\lib\\site-packages\\sklearn\\utils\\validation.py:993: DataConversionWarning: A column-vector y was passed when a 1d array was expected. Please change the shape of y to (n_samples, ), for example using ravel().\n",
      "  y = column_or_1d(y, warn=True)\n",
      "C:\\Users\\VPara-63417\\anaconda3\\lib\\site-packages\\sklearn\\utils\\validation.py:993: DataConversionWarning: A column-vector y was passed when a 1d array was expected. Please change the shape of y to (n_samples, ), for example using ravel().\n",
      "  y = column_or_1d(y, warn=True)\n",
      "C:\\Users\\VPara-63417\\anaconda3\\lib\\site-packages\\sklearn\\utils\\validation.py:993: DataConversionWarning: A column-vector y was passed when a 1d array was expected. Please change the shape of y to (n_samples, ), for example using ravel().\n",
      "  y = column_or_1d(y, warn=True)\n",
      "C:\\Users\\VPara-63417\\anaconda3\\lib\\site-packages\\sklearn\\utils\\validation.py:993: DataConversionWarning: A column-vector y was passed when a 1d array was expected. Please change the shape of y to (n_samples, ), for example using ravel().\n",
      "  y = column_or_1d(y, warn=True)\n",
      "C:\\Users\\VPara-63417\\anaconda3\\lib\\site-packages\\sklearn\\utils\\validation.py:993: DataConversionWarning: A column-vector y was passed when a 1d array was expected. Please change the shape of y to (n_samples, ), for example using ravel().\n",
      "  y = column_or_1d(y, warn=True)\n",
      "C:\\Users\\VPara-63417\\anaconda3\\lib\\site-packages\\sklearn\\utils\\validation.py:993: DataConversionWarning: A column-vector y was passed when a 1d array was expected. Please change the shape of y to (n_samples, ), for example using ravel().\n",
      "  y = column_or_1d(y, warn=True)\n",
      "C:\\Users\\VPara-63417\\anaconda3\\lib\\site-packages\\sklearn\\utils\\validation.py:993: DataConversionWarning: A column-vector y was passed when a 1d array was expected. Please change the shape of y to (n_samples, ), for example using ravel().\n",
      "  y = column_or_1d(y, warn=True)\n",
      "C:\\Users\\VPara-63417\\anaconda3\\lib\\site-packages\\sklearn\\utils\\validation.py:993: DataConversionWarning: A column-vector y was passed when a 1d array was expected. Please change the shape of y to (n_samples, ), for example using ravel().\n",
      "  y = column_or_1d(y, warn=True)\n"
     ]
    },
    {
     "name": "stdout",
     "output_type": "stream",
     "text": [
      "[CV] END ......................C=0.001, gamma=1, kernel=poly; total time=   0.0s\n",
      "[CV] END ......................C=0.001, gamma=1, kernel=poly; total time=   0.0s\n",
      "[CV] END ......................C=0.001, gamma=1, kernel=poly; total time=   0.0s\n",
      "[CV] END ......................C=0.001, gamma=1, kernel=poly; total time=   0.0s\n",
      "[CV] END .........................C=0.1, gamma=5, kernel=rbf; total time=   0.0s\n"
     ]
    },
    {
     "name": "stderr",
     "output_type": "stream",
     "text": [
      "C:\\Users\\VPara-63417\\anaconda3\\lib\\site-packages\\sklearn\\utils\\validation.py:993: DataConversionWarning: A column-vector y was passed when a 1d array was expected. Please change the shape of y to (n_samples, ), for example using ravel().\n",
      "  y = column_or_1d(y, warn=True)\n",
      "C:\\Users\\VPara-63417\\anaconda3\\lib\\site-packages\\sklearn\\utils\\validation.py:993: DataConversionWarning: A column-vector y was passed when a 1d array was expected. Please change the shape of y to (n_samples, ), for example using ravel().\n",
      "  y = column_or_1d(y, warn=True)\n",
      "C:\\Users\\VPara-63417\\anaconda3\\lib\\site-packages\\sklearn\\utils\\validation.py:993: DataConversionWarning: A column-vector y was passed when a 1d array was expected. Please change the shape of y to (n_samples, ), for example using ravel().\n",
      "  y = column_or_1d(y, warn=True)\n"
     ]
    },
    {
     "name": "stdout",
     "output_type": "stream",
     "text": [
      "[CV] END .........................C=0.1, gamma=5, kernel=rbf; total time=   0.0s\n",
      "[CV] END .........................C=0.1, gamma=5, kernel=rbf; total time=   0.0s\n",
      "[CV] END .........................C=0.1, gamma=5, kernel=rbf; total time=   0.0s\n"
     ]
    },
    {
     "name": "stderr",
     "output_type": "stream",
     "text": [
      "C:\\Users\\VPara-63417\\anaconda3\\lib\\site-packages\\sklearn\\utils\\validation.py:993: DataConversionWarning: A column-vector y was passed when a 1d array was expected. Please change the shape of y to (n_samples, ), for example using ravel().\n",
      "  y = column_or_1d(y, warn=True)\n",
      "C:\\Users\\VPara-63417\\anaconda3\\lib\\site-packages\\sklearn\\utils\\validation.py:993: DataConversionWarning: A column-vector y was passed when a 1d array was expected. Please change the shape of y to (n_samples, ), for example using ravel().\n",
      "  y = column_or_1d(y, warn=True)\n"
     ]
    },
    {
     "name": "stdout",
     "output_type": "stream",
     "text": [
      "[CV] END .........................C=0.1, gamma=5, kernel=rbf; total time=   0.0s\n",
      "[CV] END ........................C=0.1, gamma=5, kernel=poly; total time=   0.3s\n"
     ]
    },
    {
     "name": "stderr",
     "output_type": "stream",
     "text": [
      "C:\\Users\\VPara-63417\\anaconda3\\lib\\site-packages\\sklearn\\utils\\validation.py:993: DataConversionWarning: A column-vector y was passed when a 1d array was expected. Please change the shape of y to (n_samples, ), for example using ravel().\n",
      "  y = column_or_1d(y, warn=True)\n"
     ]
    },
    {
     "name": "stdout",
     "output_type": "stream",
     "text": [
      "[CV] END ........................C=0.1, gamma=5, kernel=poly; total time=   0.2s\n"
     ]
    },
    {
     "name": "stderr",
     "output_type": "stream",
     "text": [
      "C:\\Users\\VPara-63417\\anaconda3\\lib\\site-packages\\sklearn\\utils\\validation.py:993: DataConversionWarning: A column-vector y was passed when a 1d array was expected. Please change the shape of y to (n_samples, ), for example using ravel().\n",
      "  y = column_or_1d(y, warn=True)\n"
     ]
    },
    {
     "name": "stdout",
     "output_type": "stream",
     "text": [
      "[CV] END ........................C=0.1, gamma=5, kernel=poly; total time=   0.2s\n"
     ]
    },
    {
     "name": "stderr",
     "output_type": "stream",
     "text": [
      "C:\\Users\\VPara-63417\\anaconda3\\lib\\site-packages\\sklearn\\utils\\validation.py:993: DataConversionWarning: A column-vector y was passed when a 1d array was expected. Please change the shape of y to (n_samples, ), for example using ravel().\n",
      "  y = column_or_1d(y, warn=True)\n"
     ]
    },
    {
     "name": "stdout",
     "output_type": "stream",
     "text": [
      "[CV] END ........................C=0.1, gamma=5, kernel=poly; total time=   0.2s\n"
     ]
    },
    {
     "name": "stderr",
     "output_type": "stream",
     "text": [
      "C:\\Users\\VPara-63417\\anaconda3\\lib\\site-packages\\sklearn\\utils\\validation.py:993: DataConversionWarning: A column-vector y was passed when a 1d array was expected. Please change the shape of y to (n_samples, ), for example using ravel().\n",
      "  y = column_or_1d(y, warn=True)\n"
     ]
    },
    {
     "name": "stdout",
     "output_type": "stream",
     "text": [
      "[CV] END ........................C=0.1, gamma=5, kernel=poly; total time=   0.1s\n",
      "[CV] END .........................C=0.1, gamma=1, kernel=rbf; total time=   0.0s\n",
      "[CV] END .........................C=0.1, gamma=1, kernel=rbf; total time=   0.0s\n",
      "[CV] END .........................C=0.1, gamma=1, kernel=rbf; total time=   0.0s\n",
      "[CV] END .........................C=0.1, gamma=1, kernel=rbf; total time=   0.0s\n"
     ]
    },
    {
     "name": "stderr",
     "output_type": "stream",
     "text": [
      "C:\\Users\\VPara-63417\\anaconda3\\lib\\site-packages\\sklearn\\utils\\validation.py:993: DataConversionWarning: A column-vector y was passed when a 1d array was expected. Please change the shape of y to (n_samples, ), for example using ravel().\n",
      "  y = column_or_1d(y, warn=True)\n",
      "C:\\Users\\VPara-63417\\anaconda3\\lib\\site-packages\\sklearn\\utils\\validation.py:993: DataConversionWarning: A column-vector y was passed when a 1d array was expected. Please change the shape of y to (n_samples, ), for example using ravel().\n",
      "  y = column_or_1d(y, warn=True)\n",
      "C:\\Users\\VPara-63417\\anaconda3\\lib\\site-packages\\sklearn\\utils\\validation.py:993: DataConversionWarning: A column-vector y was passed when a 1d array was expected. Please change the shape of y to (n_samples, ), for example using ravel().\n",
      "  y = column_or_1d(y, warn=True)\n",
      "C:\\Users\\VPara-63417\\anaconda3\\lib\\site-packages\\sklearn\\utils\\validation.py:993: DataConversionWarning: A column-vector y was passed when a 1d array was expected. Please change the shape of y to (n_samples, ), for example using ravel().\n",
      "  y = column_or_1d(y, warn=True)\n",
      "C:\\Users\\VPara-63417\\anaconda3\\lib\\site-packages\\sklearn\\utils\\validation.py:993: DataConversionWarning: A column-vector y was passed when a 1d array was expected. Please change the shape of y to (n_samples, ), for example using ravel().\n",
      "  y = column_or_1d(y, warn=True)\n",
      "C:\\Users\\VPara-63417\\anaconda3\\lib\\site-packages\\sklearn\\utils\\validation.py:993: DataConversionWarning: A column-vector y was passed when a 1d array was expected. Please change the shape of y to (n_samples, ), for example using ravel().\n",
      "  y = column_or_1d(y, warn=True)\n",
      "C:\\Users\\VPara-63417\\anaconda3\\lib\\site-packages\\sklearn\\utils\\validation.py:993: DataConversionWarning: A column-vector y was passed when a 1d array was expected. Please change the shape of y to (n_samples, ), for example using ravel().\n",
      "  y = column_or_1d(y, warn=True)\n",
      "C:\\Users\\VPara-63417\\anaconda3\\lib\\site-packages\\sklearn\\utils\\validation.py:993: DataConversionWarning: A column-vector y was passed when a 1d array was expected. Please change the shape of y to (n_samples, ), for example using ravel().\n",
      "  y = column_or_1d(y, warn=True)\n"
     ]
    },
    {
     "name": "stdout",
     "output_type": "stream",
     "text": [
      "[CV] END .........................C=0.1, gamma=1, kernel=rbf; total time=   0.0s\n",
      "[CV] END ........................C=0.1, gamma=1, kernel=poly; total time=   0.0s\n",
      "[CV] END ........................C=0.1, gamma=1, kernel=poly; total time=   0.0s\n",
      "[CV] END ........................C=0.1, gamma=1, kernel=poly; total time=   0.0s\n",
      "[CV] END ........................C=0.1, gamma=1, kernel=poly; total time=   0.0s\n",
      "[CV] END ........................C=0.1, gamma=1, kernel=poly; total time=   0.0s\n"
     ]
    },
    {
     "name": "stderr",
     "output_type": "stream",
     "text": [
      "C:\\Users\\VPara-63417\\anaconda3\\lib\\site-packages\\sklearn\\utils\\validation.py:993: DataConversionWarning: A column-vector y was passed when a 1d array was expected. Please change the shape of y to (n_samples, ), for example using ravel().\n",
      "  y = column_or_1d(y, warn=True)\n",
      "C:\\Users\\VPara-63417\\anaconda3\\lib\\site-packages\\sklearn\\utils\\validation.py:993: DataConversionWarning: A column-vector y was passed when a 1d array was expected. Please change the shape of y to (n_samples, ), for example using ravel().\n",
      "  y = column_or_1d(y, warn=True)\n",
      "C:\\Users\\VPara-63417\\anaconda3\\lib\\site-packages\\sklearn\\utils\\validation.py:993: DataConversionWarning: A column-vector y was passed when a 1d array was expected. Please change the shape of y to (n_samples, ), for example using ravel().\n",
      "  y = column_or_1d(y, warn=True)\n"
     ]
    },
    {
     "data": {
      "text/plain": [
       "GridSearchCV(estimator=SVC(),\n",
       "             param_grid={'C': [0.001, 0.1], 'gamma': [5, 1],\n",
       "                         'kernel': ['rbf', 'poly']},\n",
       "             verbose=2)"
      ]
     },
     "execution_count": 73,
     "metadata": {},
     "output_type": "execute_result"
    }
   ],
   "source": [
    "X_train, X_test, y_train, y_test = train_test_split(Encoded_Descriptors, Class, test_size = 0.2)  # Train-Test Split\n",
    "parameter_range = {'C': [0.001,0.1], 'gamma': [5,1],'kernel': ['rbf', 'poly']} # Hyper-tuning to identify the best parameters\n",
    "tuned_model = GridSearchCV(SVC(),parameter_range,refit=True,verbose=2)\n",
    "tuned_model.fit(X_train,y_train)"
   ]
  },
  {
   "cell_type": "code",
   "execution_count": 74,
   "id": "5684b66a-0e6e-4cbb-89ef-7c132e7f873c",
   "metadata": {},
   "outputs": [
    {
     "name": "stdout",
     "output_type": "stream",
     "text": [
      "{'C': 0.001, 'gamma': 5, 'kernel': 'rbf'}\n"
     ]
    }
   ],
   "source": [
    "print(tuned_model.best_params_)"
   ]
  },
  {
   "cell_type": "code",
   "execution_count": 75,
   "id": "aa32a718-963d-4509-ac66-fda64cf6baa5",
   "metadata": {},
   "outputs": [
    {
     "name": "stdout",
     "output_type": "stream",
     "text": [
      "Accuracy : 0.9394904458598726\n"
     ]
    }
   ],
   "source": [
    "predicted_label = tuned_model.predict(X_test)\n",
    "print('Accuracy : '+str(accuracy_score(y_test_encoded, y_pred_lrclf)))"
   ]
  },
  {
   "cell_type": "markdown",
   "id": "817c4df7-2cc4-4a67-9efb-ddab73c3c7ad",
   "metadata": {},
   "source": [
    "### THE END"
   ]
  }
 ],
 "metadata": {
  "kernelspec": {
   "display_name": "Python 3 (ipykernel)",
   "language": "python",
   "name": "python3"
  },
  "language_info": {
   "codemirror_mode": {
    "name": "ipython",
    "version": 3
   },
   "file_extension": ".py",
   "mimetype": "text/x-python",
   "name": "python",
   "nbconvert_exporter": "python",
   "pygments_lexer": "ipython3",
   "version": "3.9.12"
  }
 },
 "nbformat": 4,
 "nbformat_minor": 5
}
